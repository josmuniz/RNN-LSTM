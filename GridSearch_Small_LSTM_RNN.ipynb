{
  "nbformat": 4,
  "nbformat_minor": 0,
  "metadata": {
    "colab": {
      "provenance": [],
      "gpuType": "T4",
      "authorship_tag": "ABX9TyM/gzaWKZEo4Pk3+ooG7ivU",
      "include_colab_link": true
    },
    "kernelspec": {
      "name": "python3",
      "display_name": "Python 3"
    },
    "language_info": {
      "name": "python"
    },
    "accelerator": "GPU"
  },
  "cells": [
    {
      "cell_type": "markdown",
      "metadata": {
        "id": "view-in-github",
        "colab_type": "text"
      },
      "source": [
        "<a href=\"https://colab.research.google.com/github/josmuniz/RNN-LSTM/blob/main/GridSearch_Small_LSTM_RNN.ipynb\" target=\"_parent\"><img src=\"https://colab.research.google.com/assets/colab-badge.svg\" alt=\"Open In Colab\"/></a>"
      ]
    },
    {
      "cell_type": "code",
      "execution_count": 8,
      "metadata": {
        "id": "ZXzCrggQrjbH"
      },
      "outputs": [],
      "source": [
        "import tensorflow as tf\n",
        "from tensorflow.keras.models import Sequential\n",
        "from tensorflow.keras.layers import Dense\n",
        "from tensorflow.keras.layers import Dropout\n",
        "from tensorflow.keras.layers import LSTM\n",
        "from tensorflow.keras.callbacks import ModelCheckpoint\n",
        "from tensorflow.keras.utils import to_categorical\n",
        "import numpy as np"
      ]
    },
    {
      "cell_type": "code",
      "source": [
        "from google.colab import files\n",
        "uploaded = files.upload()"
      ],
      "metadata": {
        "colab": {
          "base_uri": "https://localhost:8080/",
          "height": 73
        },
        "id": "buZERmm8-Vj4",
        "outputId": "c02270c0-6d2e-47a3-e733-96789d9f3cca"
      },
      "execution_count": 2,
      "outputs": [
        {
          "output_type": "display_data",
          "data": {
            "text/plain": [
              "<IPython.core.display.HTML object>"
            ],
            "text/html": [
              "\n",
              "     <input type=\"file\" id=\"files-cc434fd7-f044-429c-af78-658b177fbe49\" name=\"files[]\" multiple disabled\n",
              "        style=\"border:none\" />\n",
              "     <output id=\"result-cc434fd7-f044-429c-af78-658b177fbe49\">\n",
              "      Upload widget is only available when the cell has been executed in the\n",
              "      current browser session. Please rerun this cell to enable.\n",
              "      </output>\n",
              "      <script>// Copyright 2017 Google LLC\n",
              "//\n",
              "// Licensed under the Apache License, Version 2.0 (the \"License\");\n",
              "// you may not use this file except in compliance with the License.\n",
              "// You may obtain a copy of the License at\n",
              "//\n",
              "//      http://www.apache.org/licenses/LICENSE-2.0\n",
              "//\n",
              "// Unless required by applicable law or agreed to in writing, software\n",
              "// distributed under the License is distributed on an \"AS IS\" BASIS,\n",
              "// WITHOUT WARRANTIES OR CONDITIONS OF ANY KIND, either express or implied.\n",
              "// See the License for the specific language governing permissions and\n",
              "// limitations under the License.\n",
              "\n",
              "/**\n",
              " * @fileoverview Helpers for google.colab Python module.\n",
              " */\n",
              "(function(scope) {\n",
              "function span(text, styleAttributes = {}) {\n",
              "  const element = document.createElement('span');\n",
              "  element.textContent = text;\n",
              "  for (const key of Object.keys(styleAttributes)) {\n",
              "    element.style[key] = styleAttributes[key];\n",
              "  }\n",
              "  return element;\n",
              "}\n",
              "\n",
              "// Max number of bytes which will be uploaded at a time.\n",
              "const MAX_PAYLOAD_SIZE = 100 * 1024;\n",
              "\n",
              "function _uploadFiles(inputId, outputId) {\n",
              "  const steps = uploadFilesStep(inputId, outputId);\n",
              "  const outputElement = document.getElementById(outputId);\n",
              "  // Cache steps on the outputElement to make it available for the next call\n",
              "  // to uploadFilesContinue from Python.\n",
              "  outputElement.steps = steps;\n",
              "\n",
              "  return _uploadFilesContinue(outputId);\n",
              "}\n",
              "\n",
              "// This is roughly an async generator (not supported in the browser yet),\n",
              "// where there are multiple asynchronous steps and the Python side is going\n",
              "// to poll for completion of each step.\n",
              "// This uses a Promise to block the python side on completion of each step,\n",
              "// then passes the result of the previous step as the input to the next step.\n",
              "function _uploadFilesContinue(outputId) {\n",
              "  const outputElement = document.getElementById(outputId);\n",
              "  const steps = outputElement.steps;\n",
              "\n",
              "  const next = steps.next(outputElement.lastPromiseValue);\n",
              "  return Promise.resolve(next.value.promise).then((value) => {\n",
              "    // Cache the last promise value to make it available to the next\n",
              "    // step of the generator.\n",
              "    outputElement.lastPromiseValue = value;\n",
              "    return next.value.response;\n",
              "  });\n",
              "}\n",
              "\n",
              "/**\n",
              " * Generator function which is called between each async step of the upload\n",
              " * process.\n",
              " * @param {string} inputId Element ID of the input file picker element.\n",
              " * @param {string} outputId Element ID of the output display.\n",
              " * @return {!Iterable<!Object>} Iterable of next steps.\n",
              " */\n",
              "function* uploadFilesStep(inputId, outputId) {\n",
              "  const inputElement = document.getElementById(inputId);\n",
              "  inputElement.disabled = false;\n",
              "\n",
              "  const outputElement = document.getElementById(outputId);\n",
              "  outputElement.innerHTML = '';\n",
              "\n",
              "  const pickedPromise = new Promise((resolve) => {\n",
              "    inputElement.addEventListener('change', (e) => {\n",
              "      resolve(e.target.files);\n",
              "    });\n",
              "  });\n",
              "\n",
              "  const cancel = document.createElement('button');\n",
              "  inputElement.parentElement.appendChild(cancel);\n",
              "  cancel.textContent = 'Cancel upload';\n",
              "  const cancelPromise = new Promise((resolve) => {\n",
              "    cancel.onclick = () => {\n",
              "      resolve(null);\n",
              "    };\n",
              "  });\n",
              "\n",
              "  // Wait for the user to pick the files.\n",
              "  const files = yield {\n",
              "    promise: Promise.race([pickedPromise, cancelPromise]),\n",
              "    response: {\n",
              "      action: 'starting',\n",
              "    }\n",
              "  };\n",
              "\n",
              "  cancel.remove();\n",
              "\n",
              "  // Disable the input element since further picks are not allowed.\n",
              "  inputElement.disabled = true;\n",
              "\n",
              "  if (!files) {\n",
              "    return {\n",
              "      response: {\n",
              "        action: 'complete',\n",
              "      }\n",
              "    };\n",
              "  }\n",
              "\n",
              "  for (const file of files) {\n",
              "    const li = document.createElement('li');\n",
              "    li.append(span(file.name, {fontWeight: 'bold'}));\n",
              "    li.append(span(\n",
              "        `(${file.type || 'n/a'}) - ${file.size} bytes, ` +\n",
              "        `last modified: ${\n",
              "            file.lastModifiedDate ? file.lastModifiedDate.toLocaleDateString() :\n",
              "                                    'n/a'} - `));\n",
              "    const percent = span('0% done');\n",
              "    li.appendChild(percent);\n",
              "\n",
              "    outputElement.appendChild(li);\n",
              "\n",
              "    const fileDataPromise = new Promise((resolve) => {\n",
              "      const reader = new FileReader();\n",
              "      reader.onload = (e) => {\n",
              "        resolve(e.target.result);\n",
              "      };\n",
              "      reader.readAsArrayBuffer(file);\n",
              "    });\n",
              "    // Wait for the data to be ready.\n",
              "    let fileData = yield {\n",
              "      promise: fileDataPromise,\n",
              "      response: {\n",
              "        action: 'continue',\n",
              "      }\n",
              "    };\n",
              "\n",
              "    // Use a chunked sending to avoid message size limits. See b/62115660.\n",
              "    let position = 0;\n",
              "    do {\n",
              "      const length = Math.min(fileData.byteLength - position, MAX_PAYLOAD_SIZE);\n",
              "      const chunk = new Uint8Array(fileData, position, length);\n",
              "      position += length;\n",
              "\n",
              "      const base64 = btoa(String.fromCharCode.apply(null, chunk));\n",
              "      yield {\n",
              "        response: {\n",
              "          action: 'append',\n",
              "          file: file.name,\n",
              "          data: base64,\n",
              "        },\n",
              "      };\n",
              "\n",
              "      let percentDone = fileData.byteLength === 0 ?\n",
              "          100 :\n",
              "          Math.round((position / fileData.byteLength) * 100);\n",
              "      percent.textContent = `${percentDone}% done`;\n",
              "\n",
              "    } while (position < fileData.byteLength);\n",
              "  }\n",
              "\n",
              "  // All done.\n",
              "  yield {\n",
              "    response: {\n",
              "      action: 'complete',\n",
              "    }\n",
              "  };\n",
              "}\n",
              "\n",
              "scope.google = scope.google || {};\n",
              "scope.google.colab = scope.google.colab || {};\n",
              "scope.google.colab._files = {\n",
              "  _uploadFiles,\n",
              "  _uploadFilesContinue,\n",
              "};\n",
              "})(self);\n",
              "</script> "
            ]
          },
          "metadata": {}
        },
        {
          "output_type": "stream",
          "name": "stdout",
          "text": [
            "Saving wonderland.txt to wonderland.txt\n"
          ]
        }
      ]
    },
    {
      "cell_type": "markdown",
      "source": [
        "We are using Alice's adventure in Wondeland ."
      ],
      "metadata": {
        "id": "qZg2WlAIz-ym"
      }
    },
    {
      "cell_type": "code",
      "source": [
        "# load ascii text and covert to lowercase\n",
        "filename = 'wonderland.txt'\n",
        "raw_text = open(filename, 'r', encoding='utf-8').read()\n",
        "raw_text = raw_text.lower()"
      ],
      "metadata": {
        "id": "t54iWPUjz_Ah"
      },
      "execution_count": 3,
      "outputs": []
    },
    {
      "cell_type": "markdown",
      "source": [
        "Now that the book is loaded, I must prepare the data for modeling by the neural network. I cannot model the characters directly; instead, I must convert the characters to integers.\n",
        "\n",
        "I can do this easily by first creating a set of all of the distinct characters in the book, then creating a map of each character to a unique integer."
      ],
      "metadata": {
        "id": "TESpFfRK-2fa"
      }
    },
    {
      "cell_type": "code",
      "source": [
        "# create mapping of unique chars to integers\n",
        "chars = sorted(list(set(raw_text)))\n",
        "char_to_int = dict((c, i) for i, c in enumerate(chars))\n",
        "char_to_int"
      ],
      "metadata": {
        "id": "_njuArFV-9kJ"
      },
      "execution_count": null,
      "outputs": []
    },
    {
      "cell_type": "markdown",
      "source": [
        "Now that the book has been loaded and the mapping prepared, I can summarize the dataset."
      ],
      "metadata": {
        "id": "ifJSFXiu_IZ7"
      }
    },
    {
      "cell_type": "code",
      "source": [
        "n_chars = len(raw_text)\n",
        "n_vocab = len(chars)\n",
        "print (\"Total Characters: \", n_chars)\n",
        "print (\"Total Vocab: \", n_vocab)"
      ],
      "metadata": {
        "colab": {
          "base_uri": "https://localhost:8080/"
        },
        "id": "k2E9yBov_Pb2",
        "outputId": "73e7a93c-2b1e-4da1-9a18-744dc54d6695"
      },
      "execution_count": 5,
      "outputs": [
        {
          "output_type": "stream",
          "name": "stdout",
          "text": [
            "Total Characters:  163948\n",
            "Total Vocab:  64\n"
          ]
        }
      ]
    },
    {
      "cell_type": "markdown",
      "source": [
        "The book has just under 150,000 characters, and when converted to lowercase, there are only 47 distinct characters in the vocabulary for the network to learn—much more than the 26 in the alphabet.\n",
        "\n",
        "I need to define the training data for the network. There is a lot of flexibility in how we choose to break up the text and expose it to the network during training.\n",
        "\n",
        "I will split the book text up into subsequences with a fixed length of 100 characters, an arbitrary length. You could just as easily split the data by sentences, padding the shorter sequences and truncating the longer ones.\n",
        "\n",
        "Each training pattern of the network comprises 100 time steps of one character (X) followed by one character output (y). When creating these sequences, you slide this window along the whole book one character at a time, allowing each character a chance to be learned from the 100 characters that preceded it (except the first 100 characters, of course).\n"
      ],
      "metadata": {
        "id": "IdXM0_wd_tEt"
      }
    },
    {
      "cell_type": "code",
      "source": [
        "# prepare the dataset of input to output pairs encoded as integers\n",
        "seq_length = 100\n",
        "dataX = []\n",
        "dataY = []\n",
        "for i in range(0, n_chars - seq_length, 1):\n",
        " seq_in = raw_text[i:i + seq_length]\n",
        " seq_out = raw_text[i + seq_length]\n",
        " dataX.append([char_to_int[char] for char in seq_in])\n",
        " dataY.append(char_to_int[seq_out])\n",
        "n_patterns = len(dataX)\n",
        "print (\"Total Patterns: \", n_patterns)"
      ],
      "metadata": {
        "colab": {
          "base_uri": "https://localhost:8080/"
        },
        "id": "qQR3gq0wAfRb",
        "outputId": "529be8da-131e-4b22-deaf-b640fcd4f836"
      },
      "execution_count": 6,
      "outputs": [
        {
          "output_type": "stream",
          "name": "stdout",
          "text": [
            "Total Patterns:  163848\n"
          ]
        }
      ]
    },
    {
      "cell_type": "markdown",
      "source": [
        "Running the code to this point shows that when you split up the dataset into training data for the network to learn that you have just under 150,000 training patterns. This makes sense as, excluding the first 100 characters, you have one training pattern to predict each of the remaining characters."
      ],
      "metadata": {
        "id": "9bF63nxaBniY"
      }
    },
    {
      "cell_type": "code",
      "source": [
        "dataX[2]"
      ],
      "metadata": {
        "id": "L3QECJH8BQL3"
      },
      "execution_count": null,
      "outputs": []
    },
    {
      "cell_type": "markdown",
      "source": [
        "Now that we have prepared our training data, we need to transform it to be suitable for use with Keras.\n",
        "\n",
        "First, we must transform the list of input sequences into the form [samples, time steps, features] expected by an LSTM network.\n",
        "\n",
        "Next, we need to rescale the integers to the range 0-to-1 to make the patterns easier to learn by the LSTM network using the sigmoid activation function by default.\n",
        "\n",
        "Finally, we need to convert the output patterns (single characters converted to integers) into a one-hot encoding. This is so that you can configure the network to predict the probability of each of the 47 different characters in the vocabulary (an easier representation) rather than trying to force it to predict precisely the next character. Each y value is converted into a sparse vector with a length of 47, full of zeros, except with a 1 in the column for the letter (integer) that the pattern represents.\n",
        "\n",
        "---\n",
        "For example, when “n” (integer value 31) is one-hot encoded, it looks as follows:\n",
        "[ 0.  0.  0.  0.  0.  0.  0.  0.  0.  0.  0.  0.  0.  0.  0.  0.  0.  0.\n",
        "  0.  0.  0.  0.  0.  0.  0.  0.  0.  0.  0.  0.  0.  1.  0.  0.  0.  0.\n",
        "  0.  0.  0.  0.  0.  0.  0.  0.]\n"
      ],
      "metadata": {
        "id": "SPTapvrLBxGP"
      }
    },
    {
      "cell_type": "code",
      "source": [
        "# reshape X to be [samples, time steps, features]\n",
        "X = np.reshape(dataX, (n_patterns, seq_length, 1))\n",
        "# normalize\n",
        "X = X / float(n_vocab)\n",
        "# one hot encode the output variable\n",
        "y = to_categorical(dataY)"
      ],
      "metadata": {
        "id": "vNMaoFgXBhoy"
      },
      "execution_count": 9,
      "outputs": []
    },
    {
      "cell_type": "code",
      "source": [
        "y"
      ],
      "metadata": {
        "colab": {
          "base_uri": "https://localhost:8080/"
        },
        "id": "sHywtTY-C2Xt",
        "outputId": "0cd4913a-7faa-49d0-98a1-cad3a76933b6"
      },
      "execution_count": 22,
      "outputs": [
        {
          "output_type": "execute_result",
          "data": {
            "text/plain": [
              "array([[0., 0., 0., ..., 0., 0., 0.],\n",
              "       [0., 0., 0., ..., 0., 0., 0.],\n",
              "       [0., 0., 0., ..., 0., 0., 0.],\n",
              "       ...,\n",
              "       [0., 0., 0., ..., 0., 0., 0.],\n",
              "       [1., 0., 0., ..., 0., 0., 0.],\n",
              "       [1., 0., 0., ..., 0., 0., 0.]], dtype=float32)"
            ]
          },
          "metadata": {},
          "execution_count": 22
        }
      ]
    },
    {
      "cell_type": "markdown",
      "source": [
        "We can now define our LSTM model. Here, we define a single hidden LSTM layer with 256 memory units. The network uses dropout with a probability of 20. The output layer is a Dense layer using the softmax activation function to output a probability prediction for each of the 47 characters between 0 and 1.\n",
        "\n",
        "The problem is really a single character classification problem with 47 classes and, as such, is defined as optimizing the log loss (cross entropy) using the ADAM optimization algorithm for speed."
      ],
      "metadata": {
        "id": "Z3eeKLdADAi_"
      }
    },
    {
      "cell_type": "code",
      "source": [
        "# define the LSTM model\n",
        "model = Sequential()\n",
        "model.add(LSTM(256, input_shape=(X.shape[1], X.shape[2])))\n",
        "model.add(Dropout(0.2))\n",
        "model.add(Dense(y.shape[1], activation='softmax'))\n",
        "model.compile(loss='categorical_crossentropy', optimizer='adam')"
      ],
      "metadata": {
        "id": "n8d9J29-C85B"
      },
      "execution_count": 10,
      "outputs": []
    },
    {
      "cell_type": "markdown",
      "source": [
        "note1: There is no test dataset. We are modeling the entire training dataset to learn the probability of each character in a sequence."
      ],
      "metadata": {
        "id": "jkO8vEb0DjMt"
      }
    },
    {
      "cell_type": "markdown",
      "source": [
        "We are not interested in the most accurate (classification accuracy) model of the training dataset. This would be a model that predicts each character in the training dataset perfectly. Instead, we are interested in a generalization of the dataset that minimizes the chosen loss function. We are seeking a balance between generalization and overfitting but short of memorization.\n",
        "\n",
        "---\n",
        "\n"
      ],
      "metadata": {
        "id": "8kXQ0bToDn8F"
      }
    },
    {
      "cell_type": "code",
      "source": [
        "# define the checkpoint\n",
        "filepath=\"weights-improvement-{epoch:02d}-{loss:.4f}.hdf5\"\n",
        "checkpoint = ModelCheckpoint(filepath, monitor='loss', verbose=1, save_best_only=True, mode='min')\n",
        "callbacks_list = [checkpoint]"
      ],
      "metadata": {
        "id": "4X-e6r42EAcP"
      },
      "execution_count": 11,
      "outputs": []
    },
    {
      "cell_type": "code",
      "source": [
        "model.fit(X, y, epochs=20, batch_size=128, callbacks=callbacks_list)"
      ],
      "metadata": {
        "colab": {
          "base_uri": "https://localhost:8080/"
        },
        "id": "p_0RJfx3I2Q_",
        "outputId": "408b76fa-b7fb-4f54-aa50-411dd6776457"
      },
      "execution_count": 12,
      "outputs": [
        {
          "output_type": "stream",
          "name": "stdout",
          "text": [
            "Epoch 1/20\n",
            "1281/1281 [==============================] - ETA: 0s - loss: 3.0275\n",
            "Epoch 1: loss improved from inf to 3.02746, saving model to weights-improvement-01-3.0275.hdf5\n",
            "1281/1281 [==============================] - 20s 12ms/step - loss: 3.0275\n",
            "Epoch 2/20\n",
            "  10/1281 [..............................] - ETA: 15s - loss: 2.9609"
          ]
        },
        {
          "output_type": "stream",
          "name": "stderr",
          "text": [
            "/usr/local/lib/python3.10/dist-packages/keras/src/engine/training.py:3103: UserWarning: You are saving your model as an HDF5 file via `model.save()`. This file format is considered legacy. We recommend using instead the native Keras format, e.g. `model.save('my_model.keras')`.\n",
            "  saving_api.save_model(\n"
          ]
        },
        {
          "output_type": "stream",
          "name": "stdout",
          "text": [
            "1279/1281 [============================>.] - ETA: 0s - loss: 2.8468\n",
            "Epoch 2: loss improved from 3.02746 to 2.84676, saving model to weights-improvement-02-2.8468.hdf5\n",
            "1281/1281 [==============================] - 16s 12ms/step - loss: 2.8468\n",
            "Epoch 3/20\n",
            "1277/1281 [============================>.] - ETA: 0s - loss: 2.7645\n",
            "Epoch 3: loss improved from 2.84676 to 2.76458, saving model to weights-improvement-03-2.7646.hdf5\n",
            "1281/1281 [==============================] - 16s 13ms/step - loss: 2.7646\n",
            "Epoch 4/20\n",
            "1277/1281 [============================>.] - ETA: 0s - loss: 2.6929\n",
            "Epoch 4: loss improved from 2.76458 to 2.69273, saving model to weights-improvement-04-2.6927.hdf5\n",
            "1281/1281 [==============================] - 16s 13ms/step - loss: 2.6927\n",
            "Epoch 5/20\n",
            "1280/1281 [============================>.] - ETA: 0s - loss: 2.6340\n",
            "Epoch 5: loss improved from 2.69273 to 2.63404, saving model to weights-improvement-05-2.6340.hdf5\n",
            "1281/1281 [==============================] - 16s 13ms/step - loss: 2.6340\n",
            "Epoch 6/20\n",
            "1279/1281 [============================>.] - ETA: 0s - loss: 2.5734\n",
            "Epoch 6: loss improved from 2.63404 to 2.57328, saving model to weights-improvement-06-2.5733.hdf5\n",
            "1281/1281 [==============================] - 16s 13ms/step - loss: 2.5733\n",
            "Epoch 7/20\n",
            "1279/1281 [============================>.] - ETA: 0s - loss: 2.5194\n",
            "Epoch 7: loss improved from 2.57328 to 2.51925, saving model to weights-improvement-07-2.5192.hdf5\n",
            "1281/1281 [==============================] - 16s 13ms/step - loss: 2.5192\n",
            "Epoch 8/20\n",
            "1277/1281 [============================>.] - ETA: 0s - loss: 2.4706\n",
            "Epoch 8: loss improved from 2.51925 to 2.47057, saving model to weights-improvement-08-2.4706.hdf5\n",
            "1281/1281 [==============================] - 16s 12ms/step - loss: 2.4706\n",
            "Epoch 9/20\n",
            "1279/1281 [============================>.] - ETA: 0s - loss: 2.4237\n",
            "Epoch 9: loss improved from 2.47057 to 2.42367, saving model to weights-improvement-09-2.4237.hdf5\n",
            "1281/1281 [==============================] - 16s 13ms/step - loss: 2.4237\n",
            "Epoch 10/20\n",
            "1279/1281 [============================>.] - ETA: 0s - loss: 2.3818\n",
            "Epoch 10: loss improved from 2.42367 to 2.38161, saving model to weights-improvement-10-2.3816.hdf5\n",
            "1281/1281 [==============================] - 17s 13ms/step - loss: 2.3816\n",
            "Epoch 11/20\n",
            "1277/1281 [============================>.] - ETA: 0s - loss: 2.3409\n",
            "Epoch 11: loss improved from 2.38161 to 2.34079, saving model to weights-improvement-11-2.3408.hdf5\n",
            "1281/1281 [==============================] - 16s 13ms/step - loss: 2.3408\n",
            "Epoch 12/20\n",
            "1281/1281 [==============================] - ETA: 0s - loss: 2.3045\n",
            "Epoch 12: loss improved from 2.34079 to 2.30452, saving model to weights-improvement-12-2.3045.hdf5\n",
            "1281/1281 [==============================] - 17s 13ms/step - loss: 2.3045\n",
            "Epoch 13/20\n",
            "1278/1281 [============================>.] - ETA: 0s - loss: 2.2699\n",
            "Epoch 13: loss improved from 2.30452 to 2.26981, saving model to weights-improvement-13-2.2698.hdf5\n",
            "1281/1281 [==============================] - 16s 13ms/step - loss: 2.2698\n",
            "Epoch 14/20\n",
            "1280/1281 [============================>.] - ETA: 0s - loss: 2.2403\n",
            "Epoch 14: loss improved from 2.26981 to 2.24024, saving model to weights-improvement-14-2.2402.hdf5\n",
            "1281/1281 [==============================] - 16s 13ms/step - loss: 2.2402\n",
            "Epoch 15/20\n",
            "1281/1281 [==============================] - ETA: 0s - loss: 2.2035\n",
            "Epoch 15: loss improved from 2.24024 to 2.20348, saving model to weights-improvement-15-2.2035.hdf5\n",
            "1281/1281 [==============================] - 16s 13ms/step - loss: 2.2035\n",
            "Epoch 16/20\n",
            "1279/1281 [============================>.] - ETA: 0s - loss: 2.1758\n",
            "Epoch 16: loss improved from 2.20348 to 2.17584, saving model to weights-improvement-16-2.1758.hdf5\n",
            "1281/1281 [==============================] - 16s 13ms/step - loss: 2.1758\n",
            "Epoch 17/20\n",
            "1281/1281 [==============================] - ETA: 0s - loss: 2.1481\n",
            "Epoch 17: loss improved from 2.17584 to 2.14808, saving model to weights-improvement-17-2.1481.hdf5\n",
            "1281/1281 [==============================] - 16s 13ms/step - loss: 2.1481\n",
            "Epoch 18/20\n",
            "1280/1281 [============================>.] - ETA: 0s - loss: 2.1218\n",
            "Epoch 18: loss improved from 2.14808 to 2.12180, saving model to weights-improvement-18-2.1218.hdf5\n",
            "1281/1281 [==============================] - 16s 13ms/step - loss: 2.1218\n",
            "Epoch 19/20\n",
            "1280/1281 [============================>.] - ETA: 0s - loss: 2.0950\n",
            "Epoch 19: loss improved from 2.12180 to 2.09502, saving model to weights-improvement-19-2.0950.hdf5\n",
            "1281/1281 [==============================] - 16s 13ms/step - loss: 2.0950\n",
            "Epoch 20/20\n",
            "1279/1281 [============================>.] - ETA: 0s - loss: 2.0718\n",
            "Epoch 20: loss improved from 2.09502 to 2.07185, saving model to weights-improvement-20-2.0719.hdf5\n",
            "1281/1281 [==============================] - 16s 13ms/step - loss: 2.0719\n"
          ]
        },
        {
          "output_type": "execute_result",
          "data": {
            "text/plain": [
              "<keras.src.callbacks.History at 0x7912f5861270>"
            ]
          },
          "metadata": {},
          "execution_count": 12
        }
      ]
    },
    {
      "cell_type": "markdown",
      "source": [
        "Generating Text with an LSTM Network\n",
        "Generating text using the trained LSTM network is relatively straightforward.\n",
        "\n",
        "First, we will load the data and define the network in exactly the same way, except the network weights are loaded from a checkpoint file, and the network does not need to be trained."
      ],
      "metadata": {
        "id": "XVjxfNerI72Q"
      }
    },
    {
      "cell_type": "code",
      "source": [
        "# load the network weights\n",
        "filename = \"weights-improvement-20-2.0719.hdf5\"\n",
        "model.load_weights(filename)\n",
        "model.compile(loss='categorical_crossentropy', optimizer='adam')"
      ],
      "metadata": {
        "id": "rV9vdmHlJUvP"
      },
      "execution_count": 14,
      "outputs": []
    },
    {
      "cell_type": "markdown",
      "source": [
        "Also, when preparing the mapping of unique characters to integers, we must also create a reverse mapping that you can use to convert the integers back to characters so that you can understand the predictions."
      ],
      "metadata": {
        "id": "uX_PSsFaKbSt"
      }
    },
    {
      "cell_type": "code",
      "source": [
        "int_to_char = dict((i, c) for i, c in enumerate(chars))"
      ],
      "metadata": {
        "id": "4torMCjKKeEP"
      },
      "execution_count": 15,
      "outputs": []
    },
    {
      "cell_type": "markdown",
      "source": [
        "The simplest way to use the Keras LSTM model to make predictions is to first start with a seed sequence as input, generate the next character, then update the seed sequence to add the generated character on the end and trim off the first character. This process is repeated for as long as you want to predict new characters (e.g., a sequence of 1,000 characters in length)."
      ],
      "metadata": {
        "id": "eqhX5183Kj6R"
      }
    },
    {
      "cell_type": "code",
      "source": [
        "import sys\n",
        "# pick a random seed\n",
        "start = np.random.randint(0, len(dataX)-1)\n",
        "pattern = dataX[start]\n",
        "print(\"Seed:\")\n",
        "print(\"\\\"\", ''.join([int_to_char[value] for value in pattern]), \"\\\"\")\n",
        "\n",
        "# generate characters\n",
        "for i in range(1000):\n",
        " x = np.reshape(pattern, (1, len(pattern), 1))\n",
        " x = x / float(n_vocab)\n",
        " prediction = model.predict(x, verbose=0)\n",
        " index = np.argmax(prediction)\n",
        " result = int_to_char[index]\n",
        " seq_in = [int_to_char[value] for value in pattern]\n",
        " sys.stdout.write(result)\n",
        " pattern.append(index)\n",
        " pattern = pattern[1:len(pattern)]\n",
        "print(\"\\nDone.\")"
      ],
      "metadata": {
        "colab": {
          "base_uri": "https://localhost:8080/"
        },
        "id": "elrLzEVlK34L",
        "outputId": "dbd144b5-365a-4c45-e2af-c3fa38666494"
      },
      "execution_count": 17,
      "outputs": [
        {
          "output_type": "stream",
          "name": "stdout",
          "text": [
            "Seed:\n",
            "\"  hat,” the king said to the hatter.\n",
            "\n",
            "“it isn’t mine,” said the hatter.\n",
            "\n",
            "“_stolen!_” the king exclaim \"\n",
            "nd to the jork, and the hook dale ti the sore of the cotro, and the whrt hnt loae toeet oo the tire  the hound tht ao io an ie oasee hn the dad no the tare whet sas ao all oo the tare wooh it tas an iore and the was so tie wire of the harter, and the woide to ae an anl and aro anr of the hadt, and she was not io the dart wo toe kirte the sooe of the carler, and the woide to ae an anl and aro anr of the hadt, and she was not io the dart wo toe kirte the sooe of the carler, and the woide to ae an anl and aro anr of the hadt, and she was not io the dart wo toe kirte the sooe of the carler, and the woide to ae an anl and aro anr of the hadt, and she was not io the dart wo toe kirte the sooe of the carler, and the woide to ae an anl and aro anr of the hadt, and she was not io the dart wo toe kirte the sooe of the carler, and the woide to ae an anl and aro anr of the hadt, and she was not io the dart wo toe kirte the sooe of the carler, and the woide to ae an anl and aro anr of the hadt, and\n",
            "Done.\n"
          ]
        }
      ]
    }
  ]
}